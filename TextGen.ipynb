{
  "nbformat": 4,
  "nbformat_minor": 0,
  "metadata": {
    "colab": {
      "provenance": [],
      "include_colab_link": true
    },
    "kernelspec": {
      "name": "python3",
      "display_name": "Python 3"
    },
    "language_info": {
      "name": "python"
    }
  },
  "cells": [
    {
      "cell_type": "markdown",
      "metadata": {
        "id": "view-in-github",
        "colab_type": "text"
      },
      "source": [
        "<a href=\"https://colab.research.google.com/github/M4RC3LL0/NLP/blob/main/TextGen.ipynb\" target=\"_parent\"><img src=\"https://colab.research.google.com/assets/colab-badge.svg\" alt=\"Open In Colab\"/></a>"
      ]
    },
    {
      "cell_type": "code",
      "source": [
        "import numpy as np\n",
        "import random\n",
        "import tensorflow as tf\n",
        "\n",
        "# Betöltjük a szövegfájlt\n",
        "with open(\"book.txt\", \"r\", encoding=\"utf8\") as book:\n",
        "    script = book.read().lower()\n",
        "\n",
        "# Előkészítjük a karaktereket és a karakterek szótárát\n",
        "chars = sorted(list(set(script)))\n",
        "char_indices = {char: idx for idx, char in enumerate(chars)}\n",
        "indices_char = {idx: char for char, idx in char_indices.items()}\n",
        "\n",
        "# Fájlt mondatokra osztjuk\n",
        "sentences = script.split('. ')\n",
        "selected_sentence = random.choice(sentences)\n",
        "\n",
        "print(\"Kiválasztott mondat:\")\n",
        "print(selected_sentence)\n",
        "\n",
        "# Tanító adatok előkészítése a teljes fájlra\n",
        "maxlen = 60\n",
        "step = 3\n",
        "sentences = []\n",
        "next_chars = []\n",
        "\n",
        "for i in range(0, len(script) - maxlen, step):\n",
        "    sentences.append(script[i: i + maxlen])\n",
        "    next_chars.append(script[i + maxlen])\n",
        "\n",
        "x = np.zeros((len(sentences), maxlen, len(chars)), dtype=np.bool_)\n",
        "y = np.zeros((len(sentences), len(chars)), dtype=np.bool_)\n",
        "\n",
        "for i, sentence in enumerate(sentences):\n",
        "    for t, char in enumerate(sentence):\n",
        "        x[i, t, char_indices[char]] = 1\n",
        "    y[i, char_indices[next_chars[i]]] = 1\n",
        "\n",
        "# Készítünk és betanítunk egy karakteralapú neurális hálót a teljes fájlra\n",
        "model = tf.keras.Sequential([\n",
        "    tf.keras.layers.LSTM(128, input_shape=(maxlen, len(chars))),\n",
        "    tf.keras.layers.Dense(len(chars), activation='softmax')\n",
        "])\n",
        "\n",
        "model.compile(loss='categorical_crossentropy', optimizer='adam')\n",
        "model.fit(x, y, batch_size=128, epochs=1)\n",
        "\n",
        "# Generálunk további szöveget a betanult modell segítségével a kiválasztott mondat alapján\n",
        "generated_text = selected_sentence[:maxlen]\n",
        "\n",
        "for i in range(1000):\n",
        "    sampled = np.zeros((1, maxlen, len(chars)))\n",
        "    for t, char in enumerate(generated_text):\n",
        "        sampled[0, t, char_indices[char]] = 1.\n",
        "\n",
        "    preds = model.predict(sampled, verbose=0)[0]\n",
        "    next_index = np.random.choice(len(chars), p=preds)\n",
        "    next_char = indices_char[next_index]\n",
        "\n",
        "    generated_text += next_char\n",
        "    generated_text = generated_text[1:]\n",
        "\n",
        "print(\"\\nGenerált szöveg:\")\n",
        "print(generated_text)"
      ],
      "metadata": {
        "colab": {
          "base_uri": "https://localhost:8080/"
        },
        "id": "6ErP6pzpnZl0",
        "outputId": "85d1b47a-0418-4dd0-e5de-dd018e55c05f"
      },
      "execution_count": null,
      "outputs": [
        {
          "output_type": "stream",
          "name": "stdout",
          "text": [
            "Kiválasztott mondat:\n",
            "there were\n",
            "ruddy, brown-faced, broad-girthed spanish onions, shining in\n",
            "the fatness of their growth like spanish friars, and winking\n",
            "from their shelves in wanton slyness at the girls as they went\n",
            "by, and glanced demurely at the hung-up mistletoe\n",
            "411/411 [==============================] - 71s 169ms/step - loss: 2.8850\n",
            "\n",
            "Generált szöveg:\n",
            "wioghe\n",
            "df nnts inchl m iyerren \n",
            "\n",
            "hwhs\n",
            "hs ronn, wasrntu gord \n"
          ]
        }
      ]
    }
  ]
}